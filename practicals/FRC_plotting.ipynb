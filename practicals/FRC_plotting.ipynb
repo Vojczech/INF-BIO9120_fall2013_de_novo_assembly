{
 "metadata": {
  "name": ""
 },
 "nbformat": 3,
 "nbformat_minor": 0,
 "worksheets": [
  {
   "cells": [
    {
     "cell_type": "markdown",
     "metadata": {},
     "source": [
      "#Evaluating assemblies using FRCbam\n",
      "\n",
      "With this notebook, we will plot the different Feature Response curves for which the `FRC` command generated the data. Don't worry if you don't understand all the python code (but feel free to ask)!\n",
      "\n",
      "All FRC output files, for all datases for which it is run, should be in the same folder as this notebook. You will need to *specify a list of the names* of the different FRC output files for the notebook to work with."
     ]
    },
    {
     "cell_type": "markdown",
     "metadata": {},
     "source": [
      "-----\n",
      "\n",
      "1. List all files, using the name of the FRC output as indicator. E.g., if you used `--output asm_name`, then the string 'asm_name' should be in the list as all FRC output files start with that string.\n",
      "2. The result is a standard python list: elements in single quotation marks, separated by comma's and enclosed in square brackets. An example is provided below.\n",
      "3. Enter a name for the output PDF file\n",
      "\n",
      "**NOTE**\n",
      "This is the only cell of the worksheet you will need to adjust! All other celles only need to be executed."
     ]
    },
    {
     "cell_type": "code",
     "collapsed": false,
     "input": [
      "datasets = ['asm_name1', 'asm_name2', 'asm_name3']"
     ],
     "language": "python",
     "metadata": {},
     "outputs": []
    },
    {
     "cell_type": "markdown",
     "metadata": {},
     "source": [
      "Set up the right modules"
     ]
    },
    {
     "cell_type": "code",
     "collapsed": false,
     "input": [
      "import matplotlib.pyplot as plt\n",
      "from pylab import *"
     ],
     "language": "python",
     "metadata": {},
     "outputs": []
    },
    {
     "cell_type": "markdown",
     "metadata": {},
     "source": [
      "Define all the valid FRC features files."
     ]
    },
    {
     "cell_type": "code",
     "collapsed": false,
     "input": [
      "valid_frc = ['_FRC.txt', 'COMPR_MP_FRC.txt', 'COMPR_PE_FRC.txt', 'HIGH_COV_PE_FRC.txt', 'HIGH_NORM_COV_PE_FRC.txt', 'HIGH_OUTIE_MP_FRC.txt', 'HIGH_OUTIE_PE_FRC.txt', 'HIGH_SINGLE_MP_FRC.txt', 'HIGH_SINGLE_PE_FRC.txt', 'HIGH_SPAN_MP_FRC.txt', 'HIGH_SPAN_PE_FRC.txt', 'LOW_COV_PE_FRC.txt', 'LOW_NORM_COV_PE_FRC.txt', 'STRECH_MP_FRC.txt', 'STRECH_PE_FRC.txt']\n",
      "frc_text = ['Total features', 'Compressed mate pairs', 'Compressed pair ends', 'High coverage paired end', 'High normal coverage paired end', 'High outie coverage mate pairs', 'High outie coverage paired end', 'High single mate pairs', 'High single paired end', 'High span mate pairs', 'High span paired ends', 'Low coverage paired end', 'Low normal coverage paired end', 'Stretched mate pairs', 'Stretched paired ends']"
     ],
     "language": "python",
     "metadata": {},
     "outputs": []
    },
    {
     "cell_type": "markdown",
     "metadata": {},
     "source": [
      "Get all the files containing FRC features. "
     ]
    },
    {
     "cell_type": "code",
     "collapsed": false,
     "input": [
      "frc_files = []\n",
      "for feat in valid_frc:\n",
      "    file_names = []\n",
      "    for dataset in datasets:\n",
      "        file_names.append(dataset + feat)\n",
      "    frc_files.append(file_names)"
     ],
     "language": "python",
     "metadata": {},
     "outputs": []
    },
    {
     "cell_type": "markdown",
     "metadata": {},
     "source": [
      "Make a list of lists of lists that contain all the features. So that features[0] contain what's in frc_valid[0]."
     ]
    },
    {
     "cell_type": "code",
     "collapsed": false,
     "input": [
      "features = [[[] for j in range(2 * len(datasets)) ] for i in range(15)]"
     ],
     "language": "python",
     "metadata": {},
     "outputs": []
    },
    {
     "cell_type": "markdown",
     "metadata": {},
     "source": [
      "Go through all the files, for each file read its content and put into the features matrix."
     ]
    },
    {
     "cell_type": "code",
     "collapsed": false,
     "input": [
      "#For each feature (mate pair compressed, paired end compressed etc., the three interesting files are in frc_files[a])\n",
      "for i, f in enumerate(frc_files):\n",
      "    #For each file\n",
      "    for j, frc in enumerate(f):\n",
      "        frc_file = open(frc, 'r')\n",
      "        #Read the files content and update the features matrix\n",
      "        for line in frc_file:\n",
      "            data = [float(x) for x in line.split()]\n",
      "            features[i][j+j].append(data[0])\n",
      "            features[i][j+j+1].append(data[1])"
     ],
     "language": "python",
     "metadata": {},
     "outputs": []
    },
    {
     "cell_type": "markdown",
     "metadata": {},
     "source": [
      "##Total features plot\n",
      "\n",
      "**NOTE:** Study the results before continuing"
     ]
    },
    {
     "cell_type": "code",
     "collapsed": false,
     "input": [
      "for k, dataset in enumerate(datasets):\n",
      "    plot(features[0][k+k], features[0][k+k+1], label=dataset)\n",
      "    \n",
      "xlabel('Features')\n",
      "ylabel('Coverage')\n",
      "title('Total features')\n",
      "legend(loc=\"best\", prop={'size':12}); "
     ],
     "language": "python",
     "metadata": {},
     "outputs": []
    },
    {
     "cell_type": "markdown",
     "metadata": {},
     "source": [
      "##Individual feature plots\n",
      "\n",
      "**NOTE** this can take some time"
     ]
    },
    {
     "cell_type": "code",
     "collapsed": false,
     "input": [
      "fig, axes = plt.subplots(nrows=5, ncols=3, figsize=(24, 24))\n",
      "\n",
      "# for each row\n",
      "for i, ax in enumerate(axes):\n",
      "    # for each column\n",
      "    for j, a in enumerate(ax):\n",
      "        # for each dataset\n",
      "        for k, dataset in enumerate(datasets):\n",
      "            a.plot(features[((i*3)+(j+1))-1][k+k], features[((i*3)+(j+1))-1][k+k+1], label=dataset)\n",
      "    \n",
      "        a.set_xlabel('Features')\n",
      "        a.set_ylabel('Coverage')\n",
      "        a.set_title(frc_text[((i*3)+(j+1))-1])\n",
      "        a.legend(loc=\"lower right\", prop={'size':12}); \n",
      "    \n",
      "fig.savefig(FRC_plots.pdf)"
     ],
     "language": "python",
     "metadata": {},
     "outputs": []
    }
   ],
   "metadata": {}
  }
 ]
}