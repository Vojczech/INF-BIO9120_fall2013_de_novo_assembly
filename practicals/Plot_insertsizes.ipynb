{
 "metadata": {
  "name": ""
 },
 "nbformat": 3,
 "nbformat_minor": 0,
 "worksheets": [
  {
   "cells": [
    {
     "cell_type": "markdown",
     "metadata": {},
     "source": [
      "#Plotting insert size distributions\n",
      "\n",
      "Course material for the INF-BIO9120 'High Throughput Sequencing technologies and bioinformatics analysis' course at the University of Oslo, Fall 2013. See [https://github.com/lexnederbragt/INF-BIO9120_fall2013_de_novo_assembly](https://github.com/lexnederbragt/INF-BIO9120_fall2013_de_novo_assembly).\n",
      "\n",
      "We will use the following tools:\n",
      "\n",
      "* ipython notebook\n",
      "* the python *pysam* module for reading (and writing) SAM/BAM files\n",
      "* matplotlib for plotting"
     ]
    },
    {
     "cell_type": "markdown",
     "metadata": {},
     "source": [
      "####Let's start\n",
      "Let's check where we are."
     ]
    },
    {
     "cell_type": "code",
     "collapsed": false,
     "input": [
      "!pwd"
     ],
     "language": "python",
     "metadata": {},
     "outputs": []
    },
    {
     "cell_type": "markdown",
     "metadata": {},
     "source": [
      "And what files we have in the folder. You should have at least one BAM file."
     ]
    },
    {
     "cell_type": "code",
     "collapsed": false,
     "input": [
      "ls"
     ],
     "language": "python",
     "metadata": {},
     "outputs": []
    },
    {
     "cell_type": "markdown",
     "metadata": {},
     "source": [
      "Prepare python"
     ]
    },
    {
     "cell_type": "code",
     "collapsed": false,
     "input": [
      "import pysam"
     ],
     "language": "python",
     "metadata": {},
     "outputs": []
    },
    {
     "cell_type": "markdown",
     "metadata": {},
     "source": [
      "Set some parameters"
     ]
    },
    {
     "cell_type": "code",
     "collapsed": false,
     "input": [
      "infile = 'filename.sorted.bam' #SAM or BAM file\n",
      "max_inserts = 10000 # collect no more than this insert sizes (for speed)"
     ],
     "language": "python",
     "metadata": {},
     "outputs": []
    },
    {
     "cell_type": "markdown",
     "metadata": {},
     "source": [
      "Open the file, go through all alignments, collect the insert size only when it is larger than 0"
     ]
    },
    {
     "cell_type": "code",
     "collapsed": false,
     "input": [
      "with pysam.Samfile(infile, 'rb' ) as samfile:\n",
      "    # NB 'rb' for BAM file, 'r' for SAM file\n",
      "    # collect all alignments in the SAM/BAM file\n",
      "    alignments = samfile.fetch()\n",
      "    insert_sizes = []\n",
      "    # go through all alignments\n",
      "    for alignment in alignments:\n",
      "        insert_size = alignment.isize\n",
      "        if insert_size > 0:\n",
      "            # collect insert size\n",
      "            insert_sizes.append(insert_size)\n",
      "        if len(insert_sizes) >= 10000:\n",
      "            # stop\n",
      "            break"
     ],
     "language": "python",
     "metadata": {},
     "outputs": []
    },
    {
     "cell_type": "markdown",
     "metadata": {},
     "source": [
      "Plot a simple histogram of alignments  \n",
      "Use 100 bins and a suitable range for the insert size, e.g. 0-500 for paired end, 0-10000 for mate pair (experiment with this)"
     ]
    },
    {
     "cell_type": "code",
     "collapsed": false,
     "input": [
      "hist(insert_sizes, bins=100, range = (0,500))"
     ],
     "language": "python",
     "metadata": {},
     "outputs": []
    },
    {
     "cell_type": "markdown",
     "metadata": {},
     "source": [
      "Beautify by adding\n",
      "\n",
      "* limits for the x-axis\n",
      "* a label for the data\n",
      "* a legend\n",
      "\n",
      "Experiment with limits, labels etc"
     ]
    },
    {
     "cell_type": "code",
     "collapsed": false,
     "input": [
      "hist(insert_sizes, bins=100, range = (0,500), label = 'Paired end')\n",
      "xlim(200,400)\n",
      "legend()"
     ],
     "language": "python",
     "metadata": {},
     "outputs": []
    },
    {
     "cell_type": "markdown",
     "metadata": {},
     "source": [
      "Add labels and save as file"
     ]
    },
    {
     "cell_type": "code",
     "collapsed": false,
     "input": [
      "hist(insert_sizes, bins=100, range = (0,500), label = 'Paired end')\n",
      "xlim(200,400)\n",
      "legend()\n",
      "plt.xlabel('Insert size')\n",
      "plt.ylabel('Count')\n",
      "plt.savefig('Inserts.pdf')"
     ],
     "language": "python",
     "metadata": {},
     "outputs": []
    }
   ],
   "metadata": {}
  }
 ]
}